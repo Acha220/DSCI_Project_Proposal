{
 "cells": [
  {
   "cell_type": "markdown",
   "metadata": {},
   "source": [
    "# Group Proposal Group-3"
   ]
  },
  {
   "cell_type": "markdown",
   "metadata": {},
   "source": [
    "## Introduction"
   ]
  },
  {
   "cell_type": "markdown",
   "metadata": {},
   "source": [
    "**Pulsar** *(from **pulsa**ting **r**adio source)* or Pulsar Stars are highly magnetic, rotating, compact heavenly bodies often viewed as flickering “stars” from the earth night sky. Pulsar stars belong to the family of neutron stars (or sometimes white dwarfs) that emit beams of electromagnetic radiation from it’s magnetic poles. Due to its high degree of rotation, the electromagnetic radiation from its poles appears to be pulsating or flickering from earth, hence its name.\n",
    "\n",
    "Pulsars are fantastic cosmic tools for scientists to study a wide range of phenomena. Studying them helps understand a lot of unknown information about the universe and helps us push our understanding of how it works. We mainly detect pulsar stars by studying the radio frequencies received by telescopes. Often radio interferences and random noises interfere and make it hard to detect a pulsar star. Through this project we aim to produce a predictive algorithm which helps us classify if received measurements are from pulsar stars or not. "
   ]
  },
  {
   "cell_type": "markdown",
   "metadata": {},
   "source": [
    "#### Dataset and its attributes"
   ]
  },
  {
   "cell_type": "markdown",
   "metadata": {},
   "source": [
    "Each signal is described by eight continuous variables, and a single class variable. The first four are simple statistics obtained from the integrated pulse profile and the remaining four variables are similarly obtained from the DM-SNR curve. These variables are:\n",
    "\n",
    "Mean of the integrated profile.\n",
    "\n",
    "Standard deviation of the integrated profile.\n",
    "\n",
    "Excess kurtosis of the integrated profile.\n",
    "\n",
    "Skewness of the integrated profile.\n",
    "\n",
    "Mean of the DM-SNR curve.\n",
    "\n",
    "Standard deviation of the DM-SNR curve.\n",
    "\n",
    "Excess kurtosis of the DM-SNR curve.\n",
    "\n",
    "Skewness of the DM-SNR curve.\n",
    "\n",
    "Class *(0 if it is not a pulsar star and 1 if it is a pulsar star)\n",
    "\n",
    "The data set shared here contains 17898 total samples.\n"
   ]
  },
  {
   "cell_type": "markdown",
   "metadata": {},
   "source": [
    "### Preliminary exploratory data analysis:"
   ]
  },
  {
   "cell_type": "code",
   "execution_count": 3,
   "metadata": {},
   "outputs": [],
   "source": [
    "library(tidyverse)\n",
    "library(tidymodels)"
   ]
  },
  {
   "cell_type": "code",
   "execution_count": 4,
   "metadata": {},
   "outputs": [
    {
     "name": "stderr",
     "output_type": "stream",
     "text": [
      "Parsed with column specification:\n",
      "cols(\n",
      "  `Mean of the integrated profile` = \u001b[32mcol_double()\u001b[39m,\n",
      "  `Standard deviation of the integrated profile` = \u001b[32mcol_double()\u001b[39m,\n",
      "  `Excess kurtosis of the integrated profile` = \u001b[32mcol_double()\u001b[39m,\n",
      "  `Skewness of the integrated profile` = \u001b[32mcol_double()\u001b[39m,\n",
      "  `Mean of the DM-SNR curve` = \u001b[32mcol_double()\u001b[39m,\n",
      "  `Standard deviation of the DM-SNR curve` = \u001b[32mcol_double()\u001b[39m,\n",
      "  `Excess kurtosis of the DM-SNR curve` = \u001b[32mcol_double()\u001b[39m,\n",
      "  `Skewness of the DM-SNR curve` = \u001b[32mcol_double()\u001b[39m,\n",
      "  target_class = \u001b[32mcol_double()\u001b[39m\n",
      ")\n",
      "\n"
     ]
    }
   ],
   "source": [
    "pulsar <- read_csv(\"data/pulsar_data_train.csv\")"
   ]
  },
  {
   "cell_type": "code",
   "execution_count": 5,
   "metadata": {},
   "outputs": [
    {
     "data": {
      "text/html": [
       "<table>\n",
       "<caption>A tibble: 6 × 9</caption>\n",
       "<thead>\n",
       "\t<tr><th scope=col>Mean of the integrated profile</th><th scope=col>Standard deviation of the integrated profile</th><th scope=col>Excess kurtosis of the integrated profile</th><th scope=col>Skewness of the integrated profile</th><th scope=col>Mean of the DM-SNR curve</th><th scope=col>Standard deviation of the DM-SNR curve</th><th scope=col>Excess kurtosis of the DM-SNR curve</th><th scope=col>Skewness of the DM-SNR curve</th><th scope=col>target_class</th></tr>\n",
       "\t<tr><th scope=col>&lt;dbl&gt;</th><th scope=col>&lt;dbl&gt;</th><th scope=col>&lt;dbl&gt;</th><th scope=col>&lt;dbl&gt;</th><th scope=col>&lt;dbl&gt;</th><th scope=col>&lt;dbl&gt;</th><th scope=col>&lt;dbl&gt;</th><th scope=col>&lt;dbl&gt;</th><th scope=col>&lt;dbl&gt;</th></tr>\n",
       "</thead>\n",
       "<tbody>\n",
       "\t<tr><td>121.15625</td><td>48.37297</td><td> 0.3754847</td><td>-0.01316549</td><td> 3.168896</td><td>18.39937</td><td>7.449874</td><td> 65.159298</td><td>0</td></tr>\n",
       "\t<tr><td> 76.96875</td><td>36.17556</td><td> 0.7128979</td><td> 3.38871856</td><td> 2.399666</td><td>17.57100</td><td>9.414652</td><td>102.722975</td><td>0</td></tr>\n",
       "\t<tr><td>130.58594</td><td>53.22953</td><td> 0.1334083</td><td>-0.29724164</td><td> 2.743311</td><td>22.36255</td><td>8.508364</td><td> 74.031324</td><td>0</td></tr>\n",
       "\t<tr><td>156.39844</td><td>48.86594</td><td>-0.2159886</td><td>-0.17129365</td><td>17.471572</td><td>      NA</td><td>2.958066</td><td>  7.197842</td><td>0</td></tr>\n",
       "\t<tr><td> 84.80469</td><td>36.11766</td><td> 0.8250128</td><td> 3.27412537</td><td> 2.790134</td><td>20.61801</td><td>8.405008</td><td> 76.291128</td><td>0</td></tr>\n",
       "\t<tr><td>121.00781</td><td>47.17694</td><td> 0.2297081</td><td> 0.09133623</td><td> 2.036789</td><td>      NA</td><td>9.546051</td><td>112.131721</td><td>0</td></tr>\n",
       "</tbody>\n",
       "</table>\n"
      ],
      "text/latex": [
       "A tibble: 6 × 9\n",
       "\\begin{tabular}{lllllllll}\n",
       " Mean of the integrated profile & Standard deviation of the integrated profile & Excess kurtosis of the integrated profile & Skewness of the integrated profile & Mean of the DM-SNR curve & Standard deviation of the DM-SNR curve & Excess kurtosis of the DM-SNR curve & Skewness of the DM-SNR curve & target\\_class\\\\\n",
       " <dbl> & <dbl> & <dbl> & <dbl> & <dbl> & <dbl> & <dbl> & <dbl> & <dbl>\\\\\n",
       "\\hline\n",
       "\t 121.15625 & 48.37297 &  0.3754847 & -0.01316549 &  3.168896 & 18.39937 & 7.449874 &  65.159298 & 0\\\\\n",
       "\t  76.96875 & 36.17556 &  0.7128979 &  3.38871856 &  2.399666 & 17.57100 & 9.414652 & 102.722975 & 0\\\\\n",
       "\t 130.58594 & 53.22953 &  0.1334083 & -0.29724164 &  2.743311 & 22.36255 & 8.508364 &  74.031324 & 0\\\\\n",
       "\t 156.39844 & 48.86594 & -0.2159886 & -0.17129365 & 17.471572 &       NA & 2.958066 &   7.197842 & 0\\\\\n",
       "\t  84.80469 & 36.11766 &  0.8250128 &  3.27412537 &  2.790134 & 20.61801 & 8.405008 &  76.291128 & 0\\\\\n",
       "\t 121.00781 & 47.17694 &  0.2297081 &  0.09133623 &  2.036789 &       NA & 9.546051 & 112.131721 & 0\\\\\n",
       "\\end{tabular}\n"
      ],
      "text/markdown": [
       "\n",
       "A tibble: 6 × 9\n",
       "\n",
       "| Mean of the integrated profile &lt;dbl&gt; | Standard deviation of the integrated profile &lt;dbl&gt; | Excess kurtosis of the integrated profile &lt;dbl&gt; | Skewness of the integrated profile &lt;dbl&gt; | Mean of the DM-SNR curve &lt;dbl&gt; | Standard deviation of the DM-SNR curve &lt;dbl&gt; | Excess kurtosis of the DM-SNR curve &lt;dbl&gt; | Skewness of the DM-SNR curve &lt;dbl&gt; | target_class &lt;dbl&gt; |\n",
       "|---|---|---|---|---|---|---|---|---|\n",
       "| 121.15625 | 48.37297 |  0.3754847 | -0.01316549 |  3.168896 | 18.39937 | 7.449874 |  65.159298 | 0 |\n",
       "|  76.96875 | 36.17556 |  0.7128979 |  3.38871856 |  2.399666 | 17.57100 | 9.414652 | 102.722975 | 0 |\n",
       "| 130.58594 | 53.22953 |  0.1334083 | -0.29724164 |  2.743311 | 22.36255 | 8.508364 |  74.031324 | 0 |\n",
       "| 156.39844 | 48.86594 | -0.2159886 | -0.17129365 | 17.471572 |       NA | 2.958066 |   7.197842 | 0 |\n",
       "|  84.80469 | 36.11766 |  0.8250128 |  3.27412537 |  2.790134 | 20.61801 | 8.405008 |  76.291128 | 0 |\n",
       "| 121.00781 | 47.17694 |  0.2297081 |  0.09133623 |  2.036789 |       NA | 9.546051 | 112.131721 | 0 |\n",
       "\n"
      ],
      "text/plain": [
       "  Mean of the integrated profile Standard deviation of the integrated profile\n",
       "1 121.15625                      48.37297                                    \n",
       "2  76.96875                      36.17556                                    \n",
       "3 130.58594                      53.22953                                    \n",
       "4 156.39844                      48.86594                                    \n",
       "5  84.80469                      36.11766                                    \n",
       "6 121.00781                      47.17694                                    \n",
       "  Excess kurtosis of the integrated profile Skewness of the integrated profile\n",
       "1  0.3754847                                -0.01316549                       \n",
       "2  0.7128979                                 3.38871856                       \n",
       "3  0.1334083                                -0.29724164                       \n",
       "4 -0.2159886                                -0.17129365                       \n",
       "5  0.8250128                                 3.27412537                       \n",
       "6  0.2297081                                 0.09133623                       \n",
       "  Mean of the DM-SNR curve Standard deviation of the DM-SNR curve\n",
       "1  3.168896                18.39937                              \n",
       "2  2.399666                17.57100                              \n",
       "3  2.743311                22.36255                              \n",
       "4 17.471572                      NA                              \n",
       "5  2.790134                20.61801                              \n",
       "6  2.036789                      NA                              \n",
       "  Excess kurtosis of the DM-SNR curve Skewness of the DM-SNR curve target_class\n",
       "1 7.449874                             65.159298                   0           \n",
       "2 9.414652                            102.722975                   0           \n",
       "3 8.508364                             74.031324                   0           \n",
       "4 2.958066                              7.197842                   0           \n",
       "5 8.405008                             76.291128                   0           \n",
       "6 9.546051                            112.131721                   0           "
      ]
     },
     "metadata": {},
     "output_type": "display_data"
    }
   ],
   "source": [
    "head(pulsar)"
   ]
  },
  {
   "cell_type": "code",
   "execution_count": 6,
   "metadata": {},
   "outputs": [],
   "source": [
    "colnames(pulsar) <- c(\"mean_profile\", \"sd_profile\", \"kurtosis_profile\", \"skew_profile\", \"mean_dmsnr\", \"sd_dmsnr\", \"kurtosis_dmsnr\", \"skew_dmsnr\", \"target_class\")"
   ]
  },
  {
   "cell_type": "code",
   "execution_count": 7,
   "metadata": {},
   "outputs": [],
   "source": [
    "pulsar <- pulsar %>%\n",
    "mutate(target_class = as_factor(target_class)) %>%\n",
    "na.omit(pulsar)"
   ]
  },
  {
   "cell_type": "code",
   "execution_count": 8,
   "metadata": {},
   "outputs": [
    {
     "name": "stdout",
     "output_type": "stream",
     "text": [
      "Rows: 9,273\n",
      "Columns: 9\n",
      "$ mean_profile     \u001b[3m\u001b[90m<dbl>\u001b[39m\u001b[23m 121.15625, 76.96875, 130.58594, 84.80469, 109.40625,…\n",
      "$ sd_profile       \u001b[3m\u001b[90m<dbl>\u001b[39m\u001b[23m 48.37297, 36.17556, 53.22953, 36.11766, 55.91252, 40…\n",
      "$ kurtosis_profile \u001b[3m\u001b[90m<dbl>\u001b[39m\u001b[23m 0.37548466, 0.71289786, 0.13340829, 0.82501279, 0.56…\n",
      "$ skew_profile     \u001b[3m\u001b[90m<dbl>\u001b[39m\u001b[23m -0.01316549, 3.38871856, -0.29724164, 3.27412537, 0.…\n",
      "$ mean_dmsnr       \u001b[3m\u001b[90m<dbl>\u001b[39m\u001b[23m 3.1688963, 2.3996656, 2.7433110, 2.7901338, 2.797658…\n",
      "$ sd_dmsnr         \u001b[3m\u001b[90m<dbl>\u001b[39m\u001b[23m 18.399367, 17.570997, 22.362553, 20.618009, 19.49652…\n",
      "$ kurtosis_dmsnr   \u001b[3m\u001b[90m<dbl>\u001b[39m\u001b[23m 7.4498741, 9.4146523, 8.5083638, 8.4050084, 9.443282…\n",
      "$ skew_dmsnr       \u001b[3m\u001b[90m<dbl>\u001b[39m\u001b[23m 65.1592977, 102.7229747, 74.0313242, 76.2911279, 97.…\n",
      "$ target_class     \u001b[3m\u001b[90m<fct>\u001b[39m\u001b[23m 0, 0, 0, 0, 0, 0, 0, 0, 0, 0, 0, 0, 0, 0, 0, 0, 0, 0…\n"
     ]
    }
   ],
   "source": [
    "glimpse(pulsar)"
   ]
  },
  {
   "cell_type": "code",
   "execution_count": 9,
   "metadata": {},
   "outputs": [],
   "source": [
    "pulsar_split <- initial_split(pulsar, prop = 0.75, strata = target_class)\n",
    "pulsar_training <- training(pulsar_split)\n",
    "pulsar_testing <- testing(pulsar_split)"
   ]
  },
  {
   "cell_type": "code",
   "execution_count": 10,
   "metadata": {},
   "outputs": [
    {
     "name": "stdout",
     "output_type": "stream",
     "text": [
      "Rows: 6,955\n",
      "Columns: 9\n",
      "$ mean_profile     \u001b[3m\u001b[90m<dbl>\u001b[39m\u001b[23m 76.96875, 130.58594, 84.80469, 109.40625, 95.00781, …\n",
      "$ sd_profile       \u001b[3m\u001b[90m<dbl>\u001b[39m\u001b[23m 36.17556, 53.22953, 36.11766, 55.91252, 40.21981, 47…\n",
      "$ kurtosis_profile \u001b[3m\u001b[90m<dbl>\u001b[39m\u001b[23m 0.71289786, 0.13340829, 0.82501279, 0.56510595, 0.34…\n",
      "$ skew_profile     \u001b[3m\u001b[90m<dbl>\u001b[39m\u001b[23m 3.38871856, -0.29724164, 3.27412537, 0.05624666, 1.1…\n",
      "$ mean_dmsnr       \u001b[3m\u001b[90m<dbl>\u001b[39m\u001b[23m 2.3996656, 2.7433110, 2.7901338, 2.7976589, 2.770066…\n",
      "$ sd_dmsnr         \u001b[3m\u001b[90m<dbl>\u001b[39m\u001b[23m 17.570997, 22.362553, 20.618009, 19.496527, 18.21774…\n",
      "$ kurtosis_dmsnr   \u001b[3m\u001b[90m<dbl>\u001b[39m\u001b[23m 9.4146523, 8.5083638, 8.4050084, 9.4432821, 7.851205…\n",
      "$ skew_dmsnr       \u001b[3m\u001b[90m<dbl>\u001b[39m\u001b[23m 102.7229747, 74.0313242, 76.2911279, 97.3745784, 70.…\n",
      "$ target_class     \u001b[3m\u001b[90m<fct>\u001b[39m\u001b[23m 0, 0, 0, 0, 0, 0, 0, 0, 0, 0, 0, 0, 0, 0, 0, 0, 1, 0…\n"
     ]
    }
   ],
   "source": [
    "glimpse(pulsar_training)"
   ]
  },
  {
   "cell_type": "markdown",
   "metadata": {},
   "source": [
    "### Methods:"
   ]
  },
  {
   "cell_type": "code",
   "execution_count": null,
   "metadata": {},
   "outputs": [],
   "source": []
  },
  {
   "cell_type": "markdown",
   "metadata": {},
   "source": [
    "### Expected outcomes and significance:"
   ]
  },
  {
   "cell_type": "code",
   "execution_count": null,
   "metadata": {},
   "outputs": [],
   "source": []
  }
 ],
 "metadata": {
  "kernelspec": {
   "display_name": "R",
   "language": "R",
   "name": "ir"
  },
  "language_info": {
   "codemirror_mode": "r",
   "file_extension": ".r",
   "mimetype": "text/x-r-source",
   "name": "R",
   "pygments_lexer": "r",
   "version": "4.0.0"
  }
 },
 "nbformat": 4,
 "nbformat_minor": 4
}
